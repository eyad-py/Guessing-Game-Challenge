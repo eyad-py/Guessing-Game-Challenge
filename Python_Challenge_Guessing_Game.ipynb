{
 "cells": [
  {
   "cell_type": "markdown",
   "metadata": {
    "id": "NQuOyznPahpH"
   },
   "source": [
    "# Guessing Game Challenge\n",
    "\n",
    "Let's use `while` loops to create a guessing game.\n",
    "\n",
    "The Challenge:\n",
    "\n",
    "Write a program that picks a random integer from 1 to 100, and has players guess the number. The rules are:\n",
    "\n",
    "1. If a player's guess is less than 1 or greater than 100, say \"OUT OF BOUNDS\"\n",
    "\n",
    "2. On all turns, if a guess is \n",
    " * closer to the number than the previous guess return \"Closer!\"\n",
    " * farther from the number than the previous guess, return \"Farther!\"\n",
    "3. When the player's guess equals the number, tell them they've guessed correctly *and* how many guesses it took!\n",
    "\n",
    "Now Lets o fro the Steps!"
   ]
  },
  {
   "cell_type": "markdown",
   "metadata": {
    "id": "6K7SSiaEahpK"
   },
   "source": [
    "#### First, Build a Line of Code that can Return arandom integer from 1 to 100 and store this number in object called Actual"
   ]
  },
  {
   "cell_type": "code",
   "execution_count": 1,
   "metadata": {
    "id": "8R7ayXGwahpL"
   },
   "outputs": [],
   "source": [
    "#Type Your Code Here  - Replace None with Correct  Function  \n",
    "from random import randint\n",
    "Actual = randint(1,100)"
   ]
  },
  {
   "cell_type": "markdown",
   "metadata": {
    "id": "la65uFUjahpO"
   },
   "source": [
    "#### Next, build a Code to display an introduction to the Game to tell the user the Boundaries from 1 to 100 and what is his target."
   ]
  },
  {
   "cell_type": "code",
   "execution_count": 2,
   "metadata": {
    "id": "cpMGPRNT7F-J"
   },
   "outputs": [
    {
     "name": "stdout",
     "output_type": "stream",
     "text": [
      "Guess a number in the range from 1 to 100\n"
     ]
    }
   ],
   "source": [
    "#Type Your Code here \n",
    "print(\"Guess a number in the range from 1 to 100\")"
   ]
  },
  {
   "cell_type": "markdown",
   "metadata": {
    "id": "GyW_z6Sf74yG"
   },
   "source": [
    "### Next, Build a Code that takes an integer input from the user "
   ]
  },
  {
   "cell_type": "code",
   "execution_count": 4,
   "metadata": {
    "id": "UZCNvK4o82k-"
   },
   "outputs": [
    {
     "name": "stdin",
     "output_type": "stream",
     "text": [
      "Enter an Integer:  1\n"
     ]
    }
   ],
   "source": [
    "#Type Your Code Here - Replace None With Correct Function \n",
    "Guess= int(input(\"Enter an Integer: \"))\n"
   ]
  },
  {
   "cell_type": "markdown",
   "metadata": {
    "id": "BHsh0slo834l"
   },
   "source": [
    "### Next, Put the Upper Cell in A Loop that keeps checking if the Number is Out of Bounds or Not  "
   ]
  },
  {
   "cell_type": "code",
   "execution_count": 5,
   "metadata": {
    "id": "Xx00D-J89xsk"
   },
   "outputs": [
    {
     "name": "stdout",
     "output_type": "stream",
     "text": [
      "in bounds\n"
     ]
    }
   ],
   "source": [
    "#Replace None Values with correct conditions or Booleans\n",
    "while(1<=Guess<=100):\n",
    "    print(\"in bounds\")\n",
    "    break\n",
    "else:\n",
    "    print(\"out of bounds\")"
   ]
  },
  {
   "cell_type": "markdown",
   "metadata": {
    "id": "d-USlvx8dNak"
   },
   "source": [
    "### Next, Build a Code that Check if the Guess is equal to the Actual Random Number"
   ]
  },
  {
   "cell_type": "code",
   "execution_count": 6,
   "metadata": {
    "id": "E95mJnFNdfiW"
   },
   "outputs": [],
   "source": [
    "guesses=[] #Make it an Empty List \n",
    "while (1<= Guess <=100):\n",
    "    guesses.append(Guess)\n",
    "    break\n",
    "#Change None to Correct Boolean between\n",
    "l= len(guesses)\n",
    "if  Guess == Actual :\n",
    "    print (\"Wow, you've guessed Correctly this time\") #Fix \n",
    "    \n",
    "    print('You have guessed it in {} times').format(l) # Put function that calculate the Real Number of Guesses "
   ]
  },
  {
   "cell_type": "markdown",
   "metadata": {
    "id": "VWNf49z6WVek"
   },
   "source": [
    "### Next, Build a Code that Check on Each Guess whether its closer than the Previous Guess or not."
   ]
  },
  {
   "cell_type": "code",
   "execution_count": 7,
   "metadata": {
    "id": "O7McDw6pbVfX"
   },
   "outputs": [
    {
     "name": "stdout",
     "output_type": "stream",
     "text": [
      " you are far to target \n"
     ]
    }
   ],
   "source": [
    "\n",
    "while(1<= Guess <=100):\n",
    "    if  Guess< Actual :\n",
    "        print(' you are far to target ')\n",
    "        break\n",
    "    else:\n",
    "        print(' you are far from the target ')\n",
    "        break\n",
    "\n"
   ]
  },
  {
   "cell_type": "markdown",
   "metadata": {
    "id": "v-wMuTZLahpY"
   },
   "source": [
    "#### Write a `while` loop that compares the player's guess to our number. If the player guesses correctly, break from the loop. Otherwise, tell the player if they're Closer or Farer , and continue asking for guesses.\n",
    "\n",
    "**Try to Collect All the cells you 've made above and use it here**\n",
    "\n",
    "Hint:\n",
    "\n",
    "\n",
    "* you can use the `abs()` function to find the positive difference between two numbers\n",
    "\n",
    "\n",
    "# Decomposition \n",
    "\n",
    "*   Choosing Random Number\n",
    "*   Game Intro for the User\n",
    "*   Checking on the Inserted Guess if its in boundary or not\n",
    "*   Checking on the Inserted Guess if its equal to the Random Number or Not\n",
    "*   Checking on the Inserted Guess if its Far or Close from the Previous Guess.\n",
    "\n",
    "\n",
    "\n"
   ]
  },
  {
   "cell_type": "code",
   "execution_count": 8,
   "metadata": {
    "id": "FaifUKKUahpZ"
   },
   "outputs": [
    {
     "name": "stdout",
     "output_type": "stream",
     "text": [
      "Guess a number in the range from 1 to 100\n"
     ]
    },
    {
     "name": "stdin",
     "output_type": "stream",
     "text": [
      "Enter the number 50\n"
     ]
    }
   ],
   "source": [
    "# Type your Final\n",
    "from random import randint\n",
    "actual = randint(1,100)\n",
    "print(\"Guess a number in the range from 1 to 100\")\n",
    "g= int(input(\"Enter the number\"))\n",
    "prev=0"
   ]
  },
  {
   "cell_type": "code",
   "execution_count": 9,
   "metadata": {},
   "outputs": [
    {
     "name": "stdin",
     "output_type": "stream",
     "text": [
      "Enter the number 50\n"
     ]
    },
    {
     "name": "stdout",
     "output_type": "stream",
     "text": [
      "you are more far\n",
      "Please insert another number\n"
     ]
    },
    {
     "name": "stdin",
     "output_type": "stream",
     "text": [
      "Enter the number 20\n"
     ]
    },
    {
     "name": "stdout",
     "output_type": "stream",
     "text": [
      "you are more closer\n",
      "Please insert another number\n"
     ]
    },
    {
     "name": "stdin",
     "output_type": "stream",
     "text": [
      "Enter the number 15\n"
     ]
    },
    {
     "name": "stdout",
     "output_type": "stream",
     "text": [
      "WOW, You have guessed correctly\n"
     ]
    }
   ],
   "source": [
    "prev=0\n",
    "g= int(input(\"Enter the number\"))\n",
    "while 1:\n",
    "\n",
    "    \n",
    "    if g<1 or g>100:\n",
    "        print(\"out of bounds\") \n",
    "        g= int(input(\"Enter the number\"))\n",
    "    elif g == actual:\n",
    "        print(\"WOW, You have guessed correctly\")\n",
    "        break\n",
    "\n",
    "    elif abs(g-actual)>abs(prev-actual):\n",
    "        print (\"you are more far\")\n",
    "        print(\"Please insert another number\")\n",
    "        prev=g\n",
    "        g= int(input(\"Enter the number\"))\n",
    "        \n",
    "    else:\n",
    "        print(\"you are more closer\")\n",
    "        print(\"Please insert another number\")\n",
    "        prev=g\n",
    "        g= int(input(\"Enter the number\"))\n",
    "        \n"
   ]
  },
  {
   "cell_type": "markdown",
   "metadata": {
    "id": "5UZ7l5wEahpb"
   },
   "source": [
    "That's it! You've just programmed your first game!\n",
    "\n",
    "In the next section we'll learn how to turn some of these repetitive actions into *functions* that can be called whenever we need them."
   ]
  },
  {
   "cell_type": "markdown",
   "metadata": {
    "id": "HlHfgyZ9ahpc"
   },
   "source": [
    "### Good Job!"
   ]
  }
 ],
 "metadata": {
  "colab": {
   "name": "Python Challenge Guessing Game.ipynb",
   "provenance": []
  },
  "kernelspec": {
   "display_name": "Python 3",
   "language": "python",
   "name": "python3"
  },
  "language_info": {
   "codemirror_mode": {
    "name": "ipython",
    "version": 3
   },
   "file_extension": ".py",
   "mimetype": "text/x-python",
   "name": "python",
   "nbconvert_exporter": "python",
   "pygments_lexer": "ipython3",
   "version": "3.8.3"
  }
 },
 "nbformat": 4,
 "nbformat_minor": 4
}
